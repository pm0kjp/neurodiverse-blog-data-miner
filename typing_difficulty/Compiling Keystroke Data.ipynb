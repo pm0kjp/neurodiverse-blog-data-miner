{
 "cells": [
  {
   "cell_type": "markdown",
   "metadata": {},
   "source": [
    "## Import all our pre-requisites"
   ]
  },
  {
   "cell_type": "code",
   "execution_count": 1,
   "metadata": {
    "collapsed": true
   },
   "outputs": [],
   "source": [
    "from string import ascii_lowercase\n",
    "import itertools\n",
    "# Create a list of the desired bigrams -- just the combinations of lowercase ascii letters (\"ab\", \"cd\", \"xy\", etc.)\n",
    "# We are not here accounting for spaces, shifts, apostrophes, etc. (a limitation of time)\n",
    "desiredBigrams = [ \"%s%s\" % x for x in list(itertools.product(ascii_lowercase, ascii_lowercase))]\n",
    "import pandas as pd\n",
    "from scipy.stats.mstats import zscore\n",
    "from scipy.stats import kurtosis, skew\n",
    "\n",
    "import matplotlib\n",
    "import matplotlib.pyplot as plt\n",
    "%matplotlib inline  \n",
    "\n",
    "from string import ascii_lowercase\n",
    "import itertools\n",
    "# Create a list of the desired bigrams -- just the combinations of lowercase ascii letters (\"ab\", \"cd\", \"xy\", etc.)\n",
    "# We are not here accounting for spaces, shifts, apostrophes, etc. (a limitation of time)\n",
    "desiredBigrams = [ \"%s%s\" % x for x in list(itertools.product(ascii_lowercase, ascii_lowercase))]"
   ]
  },
  {
   "cell_type": "code",
   "execution_count": 2,
   "metadata": {
    "collapsed": true
   },
   "outputs": [],
   "source": [
    "## Aalto data -- thanks to A. Feit\n",
    "\n",
    "# Get the typing data -- just the cols we need\n",
    "a = pd.read_table(\"106194.txt\", usecols=[1, 6, 14])\n",
    "b = pd.read_table(\"173269.txt\", usecols=[1, 6, 14])\n",
    "c = pd.read_table(\"216367.txt\", usecols=[1, 6, 14])\n",
    "d = pd.read_table(\"221357.txt\", usecols=[1, 6, 14])\n",
    "e = pd.read_table(\"372392.txt\", usecols=[1, 6, 14])\n",
    "f = pd.read_table(\"398591.txt\", usecols=[1, 6, 14])\n",
    "g = pd.read_table(\"438454.txt\", usecols=[1, 6, 14])\n",
    "h = pd.read_table(\"549687.txt\", usecols=[1, 6, 15])\n",
    "i = pd.read_table(\"760858.txt\", usecols=[1, 6, 14])\n",
    "j = pd.read_table(\"823773.txt\", usecols=[1, 6, 14])\n",
    "k = pd.read_table(\"915322.txt\", usecols=[1, 6, 14])\n",
    "l = pd.read_table(\"934313.txt\", usecols=[1, 6, 14])"
   ]
  },
  {
   "cell_type": "code",
   "execution_count": 3,
   "metadata": {
    "collapsed": false
   },
   "outputs": [
    {
     "data": {
      "text/html": [
       "<div>\n",
       "<table border=\"1\" class=\"dataframe\">\n",
       "  <thead>\n",
       "    <tr style=\"text-align: right;\">\n",
       "      <th></th>\n",
       "      <th>input_time</th>\n",
       "      <th>input</th>\n",
       "      <th>bigram</th>\n",
       "      <th>Delta</th>\n",
       "    </tr>\n",
       "  </thead>\n",
       "  <tbody>\n",
       "    <tr>\n",
       "      <th>0</th>\n",
       "      <td>1.438250e+09</td>\n",
       "      <td>Shift_R</td>\n",
       "      <td>*Shift_R</td>\n",
       "      <td>NaN</td>\n",
       "    </tr>\n",
       "    <tr>\n",
       "      <th>1</th>\n",
       "      <td>1.438250e+09</td>\n",
       "      <td>d</td>\n",
       "      <td>Shift_Rd</td>\n",
       "      <td>0.218</td>\n",
       "    </tr>\n",
       "    <tr>\n",
       "      <th>2</th>\n",
       "      <td>1.438250e+09</td>\n",
       "      <td>o</td>\n",
       "      <td>do</td>\n",
       "      <td>0.312</td>\n",
       "    </tr>\n",
       "    <tr>\n",
       "      <th>3</th>\n",
       "      <td>1.438250e+09</td>\n",
       "      <td>w</td>\n",
       "      <td>ow</td>\n",
       "      <td>0.281</td>\n",
       "    </tr>\n",
       "    <tr>\n",
       "      <th>4</th>\n",
       "      <td>1.438250e+09</td>\n",
       "      <td>e</td>\n",
       "      <td>we</td>\n",
       "      <td>0.093</td>\n",
       "    </tr>\n",
       "  </tbody>\n",
       "</table>\n",
       "</div>"
      ],
      "text/plain": [
       "     input_time    input    bigram  Delta\n",
       "0  1.438250e+09  Shift_R  *Shift_R    NaN\n",
       "1  1.438250e+09        d  Shift_Rd  0.218\n",
       "2  1.438250e+09        o        do  0.312\n",
       "3  1.438250e+09        w        ow  0.281\n",
       "4  1.438250e+09        e        we  0.093"
      ]
     },
     "execution_count": 3,
     "metadata": {},
     "output_type": "execute_result"
    }
   ],
   "source": [
    "aalto_typing_data = pd.concat([a,b,c,d,e,f,g,h,i,j,k,l])\n",
    "\n",
    "# add the time difference from start of input -- this will be our proxy for difficulty\n",
    "aalto_typing_data['Delta'] = aalto_typing_data['input_time'].diff()\n",
    "# remove the first row which is has no delta -- it records the very first keystrike\n",
    "aalto_typing_data.head()"
   ]
  },
  {
   "cell_type": "code",
   "execution_count": 4,
   "metadata": {
    "collapsed": false
   },
   "outputs": [
    {
     "data": {
      "text/html": [
       "<div>\n",
       "<table border=\"1\" class=\"dataframe\">\n",
       "  <thead>\n",
       "    <tr style=\"text-align: right;\">\n",
       "      <th></th>\n",
       "      <th>Delta</th>\n",
       "    </tr>\n",
       "  </thead>\n",
       "  <tbody>\n",
       "    <tr>\n",
       "      <th>count</th>\n",
       "      <td>7171.000000</td>\n",
       "    </tr>\n",
       "    <tr>\n",
       "      <th>mean</th>\n",
       "      <td>0.153691</td>\n",
       "    </tr>\n",
       "    <tr>\n",
       "      <th>std</th>\n",
       "      <td>0.108691</td>\n",
       "    </tr>\n",
       "    <tr>\n",
       "      <th>min</th>\n",
       "      <td>0.008000</td>\n",
       "    </tr>\n",
       "    <tr>\n",
       "      <th>25%</th>\n",
       "      <td>0.094000</td>\n",
       "    </tr>\n",
       "    <tr>\n",
       "      <th>50%</th>\n",
       "      <td>0.125000</td>\n",
       "    </tr>\n",
       "    <tr>\n",
       "      <th>75%</th>\n",
       "      <td>0.187000</td>\n",
       "    </tr>\n",
       "    <tr>\n",
       "      <th>max</th>\n",
       "      <td>3.120000</td>\n",
       "    </tr>\n",
       "  </tbody>\n",
       "</table>\n",
       "</div>"
      ],
      "text/plain": [
       "             Delta\n",
       "count  7171.000000\n",
       "mean      0.153691\n",
       "std       0.108691\n",
       "min       0.008000\n",
       "25%       0.094000\n",
       "50%       0.125000\n",
       "75%       0.187000\n",
       "max       3.120000"
      ]
     },
     "execution_count": 4,
     "metadata": {},
     "output_type": "execute_result"
    }
   ],
   "source": [
    "aalto_typing_data.drop(aalto_typing_data.index[0], inplace=True)\n",
    "aalto_typing_data = aalto_typing_data[aalto_typing_data['bigram'].isin(desiredBigrams)]\n",
    "# remove unneeded columns -- just leave the bigram and the delta (time diff)\n",
    "aalto_typing_data.drop(aalto_typing_data.columns[[0, 1]], axis = 1, inplace=True)\n",
    "aalto_typing_data.describe()"
   ]
  },
  {
   "cell_type": "markdown",
   "metadata": {},
   "source": [
    "## Nursery Rhyme data -- thanks to V. Monaco"
   ]
  },
  {
   "cell_type": "code",
   "execution_count": 5,
   "metadata": {
    "collapsed": false
   },
   "outputs": [
    {
     "data": {
      "text/html": [
       "<div>\n",
       "<table border=\"1\" class=\"dataframe\">\n",
       "  <thead>\n",
       "    <tr style=\"text-align: right;\">\n",
       "      <th></th>\n",
       "      <th>Delta</th>\n",
       "    </tr>\n",
       "  </thead>\n",
       "  <tbody>\n",
       "    <tr>\n",
       "      <th>count</th>\n",
       "      <td>7521.000000</td>\n",
       "    </tr>\n",
       "    <tr>\n",
       "      <th>mean</th>\n",
       "      <td>0.060038</td>\n",
       "    </tr>\n",
       "    <tr>\n",
       "      <th>std</th>\n",
       "      <td>0.147336</td>\n",
       "    </tr>\n",
       "    <tr>\n",
       "      <th>min</th>\n",
       "      <td>0.000000</td>\n",
       "    </tr>\n",
       "    <tr>\n",
       "      <th>25%</th>\n",
       "      <td>0.000000</td>\n",
       "    </tr>\n",
       "    <tr>\n",
       "      <th>50%</th>\n",
       "      <td>0.000000</td>\n",
       "    </tr>\n",
       "    <tr>\n",
       "      <th>75%</th>\n",
       "      <td>0.063000</td>\n",
       "    </tr>\n",
       "    <tr>\n",
       "      <th>max</th>\n",
       "      <td>3.400000</td>\n",
       "    </tr>\n",
       "  </tbody>\n",
       "</table>\n",
       "</div>"
      ],
      "text/plain": [
       "             Delta\n",
       "count  7521.000000\n",
       "mean      0.060038\n",
       "std       0.147336\n",
       "min       0.000000\n",
       "25%       0.000000\n",
       "50%       0.000000\n",
       "75%       0.063000\n",
       "max       3.400000"
      ]
     },
     "execution_count": 5,
     "metadata": {},
     "output_type": "execute_result"
    }
   ],
   "source": [
    "# Get the typing data -- just the cols we need\n",
    "nr_typing_data = pd.read_csv(\"nr_keystroke.csv\", usecols=[\"keyname\", \"timepress\"])\n",
    "nr_typing_data['Delta'] = nr_typing_data['timepress'].diff()/1000\n",
    "\n",
    "tuple_list = zip(nr_typing_data[\"keyname\"], nr_typing_data[\"keyname\"][1:])\n",
    "string_list = [\"\"]\n",
    "for t in tuple_list :\n",
    "    string_list.append(\"%s%s\" % t)\n",
    "len(string_list)\n",
    "nr_typing_data[\"bigram\"]=string_list\n",
    "\n",
    "# remove the first row which is has no delta -- it records the very first keystrike\n",
    "nr_typing_data.drop(nr_typing_data.index[0], inplace=True)\n",
    "nr_typing_data = nr_typing_data[nr_typing_data['bigram'].isin(desiredBigrams)]\n",
    "# remove unneeded columns -- just leave the bigram and the delta (time diff)\n",
    "nr_typing_data.drop(nr_typing_data.columns[[0, 1]], axis = 1, inplace=True)\n",
    "\n",
    "nr_typing_data.describe()\n",
    "# it's unusual to have so many IKI's at zero.  We'll drop values at or below 0"
   ]
  },
  {
   "cell_type": "code",
   "execution_count": 6,
   "metadata": {
    "collapsed": false
   },
   "outputs": [
    {
     "data": {
      "text/html": [
       "<div>\n",
       "<table border=\"1\" class=\"dataframe\">\n",
       "  <thead>\n",
       "    <tr style=\"text-align: right;\">\n",
       "      <th></th>\n",
       "      <th>Delta</th>\n",
       "    </tr>\n",
       "  </thead>\n",
       "  <tbody>\n",
       "    <tr>\n",
       "      <th>count</th>\n",
       "      <td>1993.000000</td>\n",
       "    </tr>\n",
       "    <tr>\n",
       "      <th>mean</th>\n",
       "      <td>0.226565</td>\n",
       "    </tr>\n",
       "    <tr>\n",
       "      <th>std</th>\n",
       "      <td>0.210240</td>\n",
       "    </tr>\n",
       "    <tr>\n",
       "      <th>min</th>\n",
       "      <td>0.015000</td>\n",
       "    </tr>\n",
       "    <tr>\n",
       "      <th>25%</th>\n",
       "      <td>0.110000</td>\n",
       "    </tr>\n",
       "    <tr>\n",
       "      <th>50%</th>\n",
       "      <td>0.172000</td>\n",
       "    </tr>\n",
       "    <tr>\n",
       "      <th>75%</th>\n",
       "      <td>0.265000</td>\n",
       "    </tr>\n",
       "    <tr>\n",
       "      <th>max</th>\n",
       "      <td>3.400000</td>\n",
       "    </tr>\n",
       "  </tbody>\n",
       "</table>\n",
       "</div>"
      ],
      "text/plain": [
       "             Delta\n",
       "count  1993.000000\n",
       "mean      0.226565\n",
       "std       0.210240\n",
       "min       0.015000\n",
       "25%       0.110000\n",
       "50%       0.172000\n",
       "75%       0.265000\n",
       "max       3.400000"
      ]
     },
     "execution_count": 6,
     "metadata": {},
     "output_type": "execute_result"
    }
   ],
   "source": [
    "nr_typing_data = nr_typing_data[nr_typing_data['Delta']>0]\n",
    "nr_typing_data.describe()"
   ]
  },
  {
   "cell_type": "markdown",
   "metadata": {},
   "source": [
    "## Villani data -- thanks to V. Monaco"
   ]
  },
  {
   "cell_type": "code",
   "execution_count": 7,
   "metadata": {
    "collapsed": false
   },
   "outputs": [
    {
     "data": {
      "text/plain": [
       "count     627591.000000\n",
       "mean          10.890940\n",
       "std         9707.109491\n",
       "min     -2189285.177000\n",
       "25%            0.110000\n",
       "50%            0.160000\n",
       "75%            0.219000\n",
       "max      5839735.598000\n",
       "Name: Delta, dtype: float64"
      ]
     },
     "execution_count": 7,
     "metadata": {},
     "output_type": "execute_result"
    }
   ],
   "source": [
    "# Get the typing data -- just the cols we need\n",
    "vil_typing_data = pd.read_csv(\"villani_keystroke.csv\", usecols=[\"keyname\", \"timepress\"])\n",
    "vil_typing_data['Delta'] = vil_typing_data['timepress'].diff()/1000\n",
    "\n",
    "tuple_list = zip(vil_typing_data[\"keyname\"], vil_typing_data[\"keyname\"][1:])\n",
    "string_list = [\"\"]\n",
    "for t in tuple_list :\n",
    "    string_list.append(\"%s%s\" % t)\n",
    "len(string_list)\n",
    "vil_typing_data[\"bigram\"]=string_list\n",
    "# remove the first row which is has no delta -- it records the very first keystrike\n",
    "vil_typing_data.drop(vil_typing_data.index[0], inplace=True)\n",
    "vil_typing_data = vil_typing_data[vil_typing_data['bigram'].isin(desiredBigrams)]\n",
    "# remove unneeded columns -- just leave the bigram and the delta (time diff)\n",
    "vil_typing_data.drop(vil_typing_data.columns[[0, 1]], axis = 1, inplace=True)\n",
    "vil_typing_data.to_csv(\"vil.csv\")\n",
    "# as we will see, we have some significant outliers.  We will throw out data that is at or below 0 or above 10 seconds.\n",
    "vil_typing_data['Delta'].describe()"
   ]
  },
  {
   "cell_type": "code",
   "execution_count": 8,
   "metadata": {
    "collapsed": false
   },
   "outputs": [
    {
     "data": {
      "text/plain": [
       "count    627520.000000\n",
       "mean          0.196647\n",
       "std           0.190825\n",
       "min           0.001000\n",
       "25%           0.110000\n",
       "50%           0.160000\n",
       "75%           0.219000\n",
       "max           9.860000\n",
       "Name: Delta, dtype: float64"
      ]
     },
     "execution_count": 8,
     "metadata": {},
     "output_type": "execute_result"
    }
   ],
   "source": [
    "vil_typing_data = vil_typing_data[vil_typing_data['Delta']>0]\n",
    "vil_typing_data = vil_typing_data[vil_typing_data['Delta']<=10]\n",
    "vil_typing_data['Delta'].describe()"
   ]
  },
  {
   "cell_type": "markdown",
   "metadata": {},
   "source": [
    "## Combine all our keystroke data into one dataframe"
   ]
  },
  {
   "cell_type": "code",
   "execution_count": 9,
   "metadata": {
    "collapsed": true
   },
   "outputs": [],
   "source": [
    "all_bigram_data = aalto_typing_data.append(nr_typing_data).append(vil_typing_data)"
   ]
  },
  {
   "cell_type": "markdown",
   "metadata": {},
   "source": [
    "__Let's take a closer look at the compilation of all our keystroke / interkey interval data.__"
   ]
  },
  {
   "cell_type": "code",
   "execution_count": 10,
   "metadata": {
    "collapsed": false
   },
   "outputs": [
    {
     "data": {
      "text/html": [
       "<div>\n",
       "<table border=\"1\" class=\"dataframe\">\n",
       "  <thead>\n",
       "    <tr style=\"text-align: right;\">\n",
       "      <th></th>\n",
       "      <th>Delta</th>\n",
       "    </tr>\n",
       "  </thead>\n",
       "  <tbody>\n",
       "    <tr>\n",
       "      <th>count</th>\n",
       "      <td>636684.000000</td>\n",
       "    </tr>\n",
       "    <tr>\n",
       "      <th>mean</th>\n",
       "      <td>0.196257</td>\n",
       "    </tr>\n",
       "    <tr>\n",
       "      <th>std</th>\n",
       "      <td>0.190223</td>\n",
       "    </tr>\n",
       "    <tr>\n",
       "      <th>min</th>\n",
       "      <td>0.001000</td>\n",
       "    </tr>\n",
       "    <tr>\n",
       "      <th>25%</th>\n",
       "      <td>0.110000</td>\n",
       "    </tr>\n",
       "    <tr>\n",
       "      <th>50%</th>\n",
       "      <td>0.157000</td>\n",
       "    </tr>\n",
       "    <tr>\n",
       "      <th>75%</th>\n",
       "      <td>0.219000</td>\n",
       "    </tr>\n",
       "    <tr>\n",
       "      <th>max</th>\n",
       "      <td>9.860000</td>\n",
       "    </tr>\n",
       "  </tbody>\n",
       "</table>\n",
       "</div>"
      ],
      "text/plain": [
       "               Delta\n",
       "count  636684.000000\n",
       "mean        0.196257\n",
       "std         0.190223\n",
       "min         0.001000\n",
       "25%         0.110000\n",
       "50%         0.157000\n",
       "75%         0.219000\n",
       "max         9.860000"
      ]
     },
     "execution_count": 10,
     "metadata": {},
     "output_type": "execute_result"
    }
   ],
   "source": [
    "all_bigram_data.describe()"
   ]
  },
  {
   "cell_type": "markdown",
   "metadata": {},
   "source": [
    "__Let's get an idea of the overall quality of our data.  For each bigram, what's the mean, standard deviation, kurtosis, skewness?\n",
    "We'll combine these in a data frame.__"
   ]
  },
  {
   "cell_type": "code",
   "execution_count": 11,
   "metadata": {
    "collapsed": false
   },
   "outputs": [],
   "source": [
    "bigram_count = pd.Series(all_bigram_data['Delta'].groupby(all_bigram_data['bigram']).count(), name=\"count\")\n",
    "bigram_mean = pd.Series(all_bigram_data['Delta'].groupby(all_bigram_data['bigram']).mean(), name=\"mean\")\n",
    "bigram_std  = pd.Series(all_bigram_data['Delta'].groupby(all_bigram_data['bigram']).std(), name=\"std\")\n",
    "bigram_sem  = pd.Series(all_bigram_data['Delta'].groupby(all_bigram_data['bigram']).sem(), name=\"sem\")\n",
    "bigram_skewness = pd.Series(all_bigram_data['Delta'].groupby(all_bigram_data['bigram']).apply(skew) , name=\"skew\")\n",
    "bigram_kurtosis = pd.Series(all_bigram_data['Delta'].groupby(all_bigram_data['bigram']).apply(kurtosis) , name=\"kurtosis\")"
   ]
  },
  {
   "cell_type": "markdown",
   "metadata": {},
   "source": [
    "__Looking at various aspects of the data will allow us to remove bigrams who have a large standard error, which could inidicate a too-small sample or a multimodal or very spread distribution (the bigram has different IKI for different groups, such as touch typers vs. hunt-and-peck typists), etc.  __"
   ]
  },
  {
   "cell_type": "code",
   "execution_count": 12,
   "metadata": {
    "collapsed": false
   },
   "outputs": [
    {
     "data": {
      "text/plain": [
       "count    632.000000\n",
       "mean       0.041864\n",
       "std        0.126035\n",
       "min        0.000500\n",
       "25%        0.005681\n",
       "50%        0.018706\n",
       "75%        0.047427\n",
       "max        2.811334\n",
       "Name: sem, dtype: float64"
      ]
     },
     "execution_count": 12,
     "metadata": {},
     "output_type": "execute_result"
    }
   ],
   "source": [
    "bigram_sem.describe()"
   ]
  },
  {
   "cell_type": "markdown",
   "metadata": {},
   "source": [
    "__Let's remove bigrams for which the standard error of the mean is greater than 0.05.__"
   ]
  },
  {
   "cell_type": "code",
   "execution_count": 13,
   "metadata": {
    "collapsed": false
   },
   "outputs": [
    {
     "data": {
      "text/plain": [
       "count    479.000000\n",
       "mean       0.015355\n",
       "std        0.012861\n",
       "min        0.000500\n",
       "25%        0.004529\n",
       "50%        0.010620\n",
       "75%        0.023299\n",
       "max        0.049672\n",
       "Name: sem, dtype: float64"
      ]
     },
     "execution_count": 13,
     "metadata": {},
     "output_type": "execute_result"
    }
   ],
   "source": [
    "bigram_sem = bigram_sem[bigram_sem <= 0.05]\n",
    "bigram_sem.describe()"
   ]
  },
  {
   "cell_type": "code",
   "execution_count": 14,
   "metadata": {
    "collapsed": false
   },
   "outputs": [
    {
     "data": {
      "text/plain": [
       "count      654.000000\n",
       "mean       973.522936\n",
       "std       2238.262073\n",
       "min          1.000000\n",
       "25%         17.000000\n",
       "50%         81.500000\n",
       "75%       1006.500000\n",
       "max      25500.000000\n",
       "Name: count, dtype: float64"
      ]
     },
     "execution_count": 14,
     "metadata": {},
     "output_type": "execute_result"
    }
   ],
   "source": [
    "bigram_count.describe()"
   ]
  },
  {
   "cell_type": "markdown",
   "metadata": {},
   "source": [
    "__Let's remove bigrams for which we have fewer than 30 IKI measurements, even if the standard error is low.__"
   ]
  },
  {
   "cell_type": "code",
   "execution_count": 15,
   "metadata": {
    "collapsed": false
   },
   "outputs": [
    {
     "data": {
      "text/plain": [
       "count      432.000000\n",
       "mean      1468.523148\n",
       "std       2620.446923\n",
       "min         30.000000\n",
       "25%         84.750000\n",
       "50%        428.000000\n",
       "75%       1778.000000\n",
       "max      25500.000000\n",
       "Name: count, dtype: float64"
      ]
     },
     "execution_count": 15,
     "metadata": {},
     "output_type": "execute_result"
    }
   ],
   "source": [
    "bigram_count = bigram_count[bigram_count >=30]\n",
    "bigram_count.describe()"
   ]
  },
  {
   "cell_type": "markdown",
   "metadata": {},
   "source": [
    "__For now, we just show the other info, which may prove useful later.__"
   ]
  },
  {
   "cell_type": "code",
   "execution_count": 16,
   "metadata": {
    "collapsed": false
   },
   "outputs": [
    {
     "data": {
      "text/plain": [
       "count    632.000000\n",
       "mean       0.247021\n",
       "std        0.267988\n",
       "min        0.000707\n",
       "25%        0.146261\n",
       "50%        0.193702\n",
       "75%        0.275161\n",
       "max        4.869374\n",
       "Name: std, dtype: float64"
      ]
     },
     "execution_count": 16,
     "metadata": {},
     "output_type": "execute_result"
    }
   ],
   "source": [
    "bigram_std.describe()"
   ]
  },
  {
   "cell_type": "code",
   "execution_count": 17,
   "metadata": {
    "collapsed": false
   },
   "outputs": [
    {
     "data": {
      "text/plain": [
       "count     654.000000\n",
       "mean       60.776281\n",
       "std       143.803525\n",
       "min        -3.000000\n",
       "25%         1.050925\n",
       "50%        13.592288\n",
       "75%        55.387928\n",
       "max      1531.678670\n",
       "Name: kurtosis, dtype: float64"
      ]
     },
     "execution_count": 17,
     "metadata": {},
     "output_type": "execute_result"
    }
   ],
   "source": [
    "bigram_kurtosis.describe()"
   ]
  },
  {
   "cell_type": "code",
   "execution_count": 18,
   "metadata": {
    "collapsed": false
   },
   "outputs": [
    {
     "data": {
      "text/plain": [
       "count    654.000000\n",
       "mean       0.261898\n",
       "std        0.164206\n",
       "min        0.018667\n",
       "25%        0.187135\n",
       "50%        0.231880\n",
       "75%        0.303346\n",
       "max        3.018333\n",
       "Name: mean, dtype: float64"
      ]
     },
     "execution_count": 18,
     "metadata": {},
     "output_type": "execute_result"
    }
   ],
   "source": [
    "bigram_mean.describe()"
   ]
  },
  {
   "cell_type": "code",
   "execution_count": 19,
   "metadata": {
    "collapsed": false
   },
   "outputs": [
    {
     "data": {
      "text/plain": [
       "count    654.000000\n",
       "mean       4.367364\n",
       "std        4.538702\n",
       "min       -1.646306\n",
       "25%        1.228994\n",
       "50%        3.295293\n",
       "75%        5.944813\n",
       "max       32.062669\n",
       "Name: skew, dtype: float64"
      ]
     },
     "execution_count": 19,
     "metadata": {},
     "output_type": "execute_result"
    }
   ],
   "source": [
    "bigram_skewness.describe()"
   ]
  },
  {
   "cell_type": "markdown",
   "metadata": {},
   "source": [
    "__We'll join these series using an inner join so that only the bigrams that passed both our count test and our kurtosis check will be included.__"
   ]
  },
  {
   "cell_type": "code",
   "execution_count": 20,
   "metadata": {
    "collapsed": false
   },
   "outputs": [],
   "source": [
    "bigram_info=pd.concat([bigram_count, bigram_sem, bigram_mean, bigram_std, bigram_skewness, bigram_kurtosis], axis=1, join='inner')"
   ]
  },
  {
   "cell_type": "markdown",
   "metadata": {},
   "source": [
    "__What are we left with?  The length of the index should be considerably less than the original 600+.__"
   ]
  },
  {
   "cell_type": "code",
   "execution_count": 21,
   "metadata": {
    "collapsed": false
   },
   "outputs": [
    {
     "data": {
      "text/plain": [
       "Index([u'ab', u'ac', u'ad', u'ae', u'af', u'ag', u'ah', u'ai', u'aj', u'ak',\n",
       "       ...\n",
       "       u'ys', u'yt', u'yu', u'yw', u'yy', u'za', u'ze', u'zi', u'zy', u'zz'],\n",
       "      dtype='object', name=u'bigram', length=384)"
      ]
     },
     "execution_count": 21,
     "metadata": {},
     "output_type": "execute_result"
    }
   ],
   "source": [
    "bigram_info.index"
   ]
  },
  {
   "cell_type": "markdown",
   "metadata": {},
   "source": [
    "__We'll write this info to a csv for use in other parts of this project.__"
   ]
  },
  {
   "cell_type": "code",
   "execution_count": 22,
   "metadata": {
    "collapsed": true
   },
   "outputs": [],
   "source": [
    "bigram_info.to_csv(\"bigram_info.csv\")"
   ]
  },
  {
   "cell_type": "markdown",
   "metadata": {},
   "source": [
    "__Aside: Let's take a look at some distributions of IKI to show unimodal vs. multimodal data:__"
   ]
  },
  {
   "cell_type": "code",
   "execution_count": 23,
   "metadata": {
    "collapsed": false
   },
   "outputs": [],
   "source": [
    "matplotlib.rcParams['figure.figsize'] = (20.0, 6.0)"
   ]
  },
  {
   "cell_type": "code",
   "execution_count": 24,
   "metadata": {
    "collapsed": false
   },
   "outputs": [
    {
     "data": {
      "image/png": "[encoded data removed]",
      "text/plain": [
       "<matplotlib.figure.Figure at 0x11539d050>"
      ]
     },
     "metadata": {},
     "output_type": "display_data"
    }
   ],
   "source": [
    "# \"sn\" is unimodal, but with a highly leveraged outlier.\n",
    "plt.hist(all_bigram_data.Delta[all_bigram_data.bigram == \"sn\"], bins = 40)\n",
    "plt.xlabel('Inter-key Interval Mean in Seconds')\n",
    "plt.ylabel('Frequency')\n",
    "plt.show()"
   ]
  },
  {
   "cell_type": "code",
   "execution_count": 25,
   "metadata": {
    "collapsed": false
   },
   "outputs": [
    {
     "data": {
      "image/png": "[encoded data removed]",
      "text/plain": [
       "<matplotlib.figure.Figure at 0x11539dd90>"
      ]
     },
     "metadata": {},
     "output_type": "display_data"
    }
   ],
   "source": [
    "# \"nj\" is unimodal and has a close to normal distribution\n",
    "plt.hist(all_bigram_data.Delta[all_bigram_data.bigram == \"nj\"], bins = 30)\n",
    "plt.xlabel('Inter-key Interval Mean in Seconds')\n",
    "plt.ylabel('Frequency')\n",
    "plt.show()"
   ]
  },
  {
   "cell_type": "code",
   "execution_count": 26,
   "metadata": {
    "collapsed": false
   },
   "outputs": [
    {
     "data": {
      "image/png": "[encoded data removed]",
      "text/plain": [
       "<matplotlib.figure.Figure at 0x1163ffa50>"
      ]
     },
     "metadata": {},
     "output_type": "display_data"
    }
   ],
   "source": [
    "# \"fj\" is multi-modal.\n",
    "plt.hist(all_bigram_data.Delta[all_bigram_data.bigram == \"fj\"], bins = 20)\n",
    "plt.xlabel('Inter-key Interval Mean in Seconds')\n",
    "plt.ylabel('Frequency')\n",
    "plt.show()"
   ]
  }
 ],
 "metadata": {
  "kernelspec": {
   "display_name": "Python 2",
   "language": "python",
   "name": "python2"
  },
  "language_info": {
   "codemirror_mode": {
    "name": "ipython",
    "version": 2
   },
   "file_extension": ".py",
   "mimetype": "text/x-python",
   "name": "python",
   "nbconvert_exporter": "python",
   "pygments_lexer": "ipython2",
   "version": "2.7.11"
  }
 },
 "nbformat": 4,
 "nbformat_minor": 0
}
